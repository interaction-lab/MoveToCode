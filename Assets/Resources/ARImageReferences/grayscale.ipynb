{
 "cells": [
  {
   "cell_type": "code",
   "execution_count": 1,
   "metadata": {},
   "outputs": [],
   "source": [
    "from PIL import Image\n",
    "import os"
   ]
  },
  {
   "cell_type": "code",
   "execution_count": 2,
   "metadata": {},
   "outputs": [],
   "source": [
    "img_dir = './Images/'\n",
    "gray_scale_dir =  img_dir + 'GrayScaleImages/'"
   ]
  },
  {
   "cell_type": "code",
   "execution_count": 3,
   "metadata": {},
   "outputs": [],
   "source": [
    "# create a grayscale directory if it doesn't exist\n",
    "if not os.path.exists(gray_scale_dir):\n",
    "    os.makedirs(gray_scale_dir)"
   ]
  },
  {
   "cell_type": "code",
   "execution_count": 5,
   "metadata": {},
   "outputs": [],
   "source": [
    "# grab all files in the directory\n",
    "img_files = os.listdir(img_dir)\n",
    "\n",
    "# loop through each file\n",
    "for file in img_files:\n",
    "    # continue if the extension is not .png\n",
    "    if not file.endswith('.png'):\n",
    "        continue\n",
    "    # open the image\n",
    "    img = Image.open(os.path.join(img_dir, file))\n",
    "    \n",
    "    # check if grayscale version exists already\n",
    "    if not os.path.exists(gray_scale_dir + file):\n",
    "        # convert to grayscale\n",
    "        img = img.convert('L')\n",
    "        # save the grayscale version\n",
    "        img.save(gray_scale_dir + file)"
   ]
  },
  {
   "cell_type": "code",
   "execution_count": null,
   "metadata": {},
   "outputs": [],
   "source": []
  }
 ],
 "metadata": {
  "kernelspec": {
   "display_name": "Python 3.8.10 64-bit",
   "language": "python",
   "name": "python3"
  },
  "language_info": {
   "codemirror_mode": {
    "name": "ipython",
    "version": 3
   },
   "file_extension": ".py",
   "mimetype": "text/x-python",
   "name": "python",
   "nbconvert_exporter": "python",
   "pygments_lexer": "ipython3",
   "version": "3.8.10"
  },
  "orig_nbformat": 4,
  "vscode": {
   "interpreter": {
    "hash": "916dbcbb3f70747c44a77c7bcd40155683ae19c65e1c03b4aa3499c5328201f1"
   }
  }
 },
 "nbformat": 4,
 "nbformat_minor": 2
}
